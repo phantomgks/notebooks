{
 "cells": [
  {
   "cell_type": "code",
   "execution_count": 1,
   "metadata": {},
   "outputs": [],
   "source": [
    "import pandas as pd\n",
    "import numpy as np\n",
    "from sklearn.preprocessing import LabelEncoder\n",
    "from sklearn.model_selection import train_test_split\n",
    "from sklearn.linear_model import LinearRegression\n",
    "from sklearn.tree import DecisionTreeRegressor\n",
    "from sklearn.ensemble import RandomForestRegressor\n",
    "import seaborn as sns\n",
    "from sklearn.metrics import mean_squared_error\n",
    "from sklearn.metrics import r2_score\n",
    "from sklearn.model_selection import train_test_split\n",
    "from sklearn.neural_network import MLPRegressor\n",
    "from sklearn.ensemble import GradientBoostingRegressor"
   ]
  },
  {
   "cell_type": "code",
   "execution_count": 2,
   "metadata": {},
   "outputs": [
    {
     "data": {
      "text/html": [
       "<div>\n",
       "<style scoped>\n",
       "    .dataframe tbody tr th:only-of-type {\n",
       "        vertical-align: middle;\n",
       "    }\n",
       "\n",
       "    .dataframe tbody tr th {\n",
       "        vertical-align: top;\n",
       "    }\n",
       "\n",
       "    .dataframe thead th {\n",
       "        text-align: right;\n",
       "    }\n",
       "</style>\n",
       "<table border=\"1\" class=\"dataframe\">\n",
       "  <thead>\n",
       "    <tr style=\"text-align: right;\">\n",
       "      <th></th>\n",
       "      <th>price</th>\n",
       "      <th>m2_price</th>\n",
       "      <th>square</th>\n",
       "      <th>rooms</th>\n",
       "      <th>district</th>\n",
       "      <th>micro_district</th>\n",
       "      <th>building_type</th>\n",
       "      <th>floor</th>\n",
       "      <th>floors</th>\n",
       "      <th>year</th>\n",
       "      <th>date</th>\n",
       "      <th>source</th>\n",
       "      <th>condition</th>\n",
       "    </tr>\n",
       "  </thead>\n",
       "  <tbody>\n",
       "    <tr>\n",
       "      <th>0</th>\n",
       "      <td>110880</td>\n",
       "      <td>720</td>\n",
       "      <td>154</td>\n",
       "      <td>4</td>\n",
       "      <td>Октябрьский район</td>\n",
       "      <td>Магистраль</td>\n",
       "      <td>кирпичный</td>\n",
       "      <td>12</td>\n",
       "      <td>14</td>\n",
       "      <td>2023.0</td>\n",
       "      <td>2023-02-04 20:05:01</td>\n",
       "      <td>Site</td>\n",
       "      <td>под самоотделку (ПСО)</td>\n",
       "    </tr>\n",
       "    <tr>\n",
       "      <th>1</th>\n",
       "      <td>57000</td>\n",
       "      <td>740</td>\n",
       "      <td>77</td>\n",
       "      <td>2</td>\n",
       "      <td>Октябрьский район</td>\n",
       "      <td>Магистраль</td>\n",
       "      <td>кирпичный</td>\n",
       "      <td>5</td>\n",
       "      <td>12</td>\n",
       "      <td>2023.0</td>\n",
       "      <td>2023-02-04 20:04:49</td>\n",
       "      <td>Site</td>\n",
       "      <td>под самоотделку (ПСО)</td>\n",
       "    </tr>\n",
       "    <tr>\n",
       "      <th>2</th>\n",
       "      <td>57750</td>\n",
       "      <td>750</td>\n",
       "      <td>77</td>\n",
       "      <td>2</td>\n",
       "      <td>Октябрьский район</td>\n",
       "      <td>Магистраль</td>\n",
       "      <td>монолитный</td>\n",
       "      <td>5</td>\n",
       "      <td>12</td>\n",
       "      <td>2023.0</td>\n",
       "      <td>2023-02-04 20:04:37</td>\n",
       "      <td>Site</td>\n",
       "      <td>под самоотделку (ПСО)</td>\n",
       "    </tr>\n",
       "    <tr>\n",
       "      <th>3</th>\n",
       "      <td>57000</td>\n",
       "      <td>740</td>\n",
       "      <td>77</td>\n",
       "      <td>2</td>\n",
       "      <td>Октябрьский район</td>\n",
       "      <td>Магистраль</td>\n",
       "      <td>кирпичный</td>\n",
       "      <td>5</td>\n",
       "      <td>12</td>\n",
       "      <td>2023.0</td>\n",
       "      <td>2023-02-04 20:04:01</td>\n",
       "      <td>Site</td>\n",
       "      <td>под самоотделку (ПСО)</td>\n",
       "    </tr>\n",
       "    <tr>\n",
       "      <th>4</th>\n",
       "      <td>55000</td>\n",
       "      <td>1279</td>\n",
       "      <td>43</td>\n",
       "      <td>1</td>\n",
       "      <td>Ленинский район</td>\n",
       "      <td>Академия Наук</td>\n",
       "      <td>кирпичный</td>\n",
       "      <td>1</td>\n",
       "      <td>12</td>\n",
       "      <td>2013.0</td>\n",
       "      <td>2023-02-04 20:02:37</td>\n",
       "      <td>Site</td>\n",
       "      <td>хорошее</td>\n",
       "    </tr>\n",
       "  </tbody>\n",
       "</table>\n",
       "</div>"
      ],
      "text/plain": [
       "    price  m2_price  square rooms           district micro_district  \\\n",
       "0  110880       720     154     4  Октябрьский район     Магистраль   \n",
       "1   57000       740      77     2  Октябрьский район     Магистраль   \n",
       "2   57750       750      77     2  Октябрьский район     Магистраль   \n",
       "3   57000       740      77     2  Октябрьский район     Магистраль   \n",
       "4   55000      1279      43     1    Ленинский район  Академия Наук   \n",
       "\n",
       "  building_type  floor  floors    year                 date source  \\\n",
       "0     кирпичный     12      14  2023.0  2023-02-04 20:05:01   Site   \n",
       "1     кирпичный      5      12  2023.0  2023-02-04 20:04:49   Site   \n",
       "2    монолитный      5      12  2023.0  2023-02-04 20:04:37   Site   \n",
       "3     кирпичный      5      12  2023.0  2023-02-04 20:04:01   Site   \n",
       "4     кирпичный      1      12  2013.0  2023-02-04 20:02:37   Site   \n",
       "\n",
       "               condition  \n",
       "0  под самоотделку (ПСО)  \n",
       "1  под самоотделку (ПСО)  \n",
       "2  под самоотделку (ПСО)  \n",
       "3  под самоотделку (ПСО)  \n",
       "4                хорошее  "
      ]
     },
     "execution_count": 2,
     "metadata": {},
     "output_type": "execute_result"
    }
   ],
   "source": [
    "df = pd.read_csv(\"C:/Users/gpro0/OneDrive/Рабочий стол/Data Science course/house_kg_10K_ads.csv/house_kg_10K_ads.csv\")\n",
    "df.head()"
   ]
  },
  {
   "cell_type": "code",
   "execution_count": 3,
   "metadata": {},
   "outputs": [
    {
     "data": {
      "text/plain": [
       "134"
      ]
     },
     "execution_count": 3,
     "metadata": {},
     "output_type": "execute_result"
    }
   ],
   "source": [
    "df.micro_district.nunique()"
   ]
  },
  {
   "cell_type": "code",
   "execution_count": 4,
   "metadata": {},
   "outputs": [
    {
     "data": {
      "text/html": [
       "<div>\n",
       "<style scoped>\n",
       "    .dataframe tbody tr th:only-of-type {\n",
       "        vertical-align: middle;\n",
       "    }\n",
       "\n",
       "    .dataframe tbody tr th {\n",
       "        vertical-align: top;\n",
       "    }\n",
       "\n",
       "    .dataframe thead th {\n",
       "        text-align: right;\n",
       "    }\n",
       "</style>\n",
       "<table border=\"1\" class=\"dataframe\">\n",
       "  <thead>\n",
       "    <tr style=\"text-align: right;\">\n",
       "      <th></th>\n",
       "      <th>sum</th>\n",
       "      <th>min</th>\n",
       "      <th>max</th>\n",
       "      <th>mean</th>\n",
       "    </tr>\n",
       "    <tr>\n",
       "      <th>district</th>\n",
       "      <th></th>\n",
       "      <th></th>\n",
       "      <th></th>\n",
       "      <th></th>\n",
       "    </tr>\n",
       "  </thead>\n",
       "  <tbody>\n",
       "    <tr>\n",
       "      <th>Ленинский район</th>\n",
       "      <td>154288292</td>\n",
       "      <td>6000</td>\n",
       "      <td>550000</td>\n",
       "      <td>76760.344279</td>\n",
       "    </tr>\n",
       "    <tr>\n",
       "      <th>Октябрьский район</th>\n",
       "      <td>394867718</td>\n",
       "      <td>12000</td>\n",
       "      <td>550000</td>\n",
       "      <td>75775.804644</td>\n",
       "    </tr>\n",
       "    <tr>\n",
       "      <th>Первомайский район</th>\n",
       "      <td>144755584</td>\n",
       "      <td>11200</td>\n",
       "      <td>460000</td>\n",
       "      <td>84850.869871</td>\n",
       "    </tr>\n",
       "    <tr>\n",
       "      <th>Свердловский район</th>\n",
       "      <td>69216996</td>\n",
       "      <td>9500</td>\n",
       "      <td>550000</td>\n",
       "      <td>65114.765757</td>\n",
       "    </tr>\n",
       "  </tbody>\n",
       "</table>\n",
       "</div>"
      ],
      "text/plain": [
       "                          sum    min     max          mean\n",
       "district                                                  \n",
       "Ленинский район     154288292   6000  550000  76760.344279\n",
       "Октябрьский район   394867718  12000  550000  75775.804644\n",
       "Первомайский район  144755584  11200  460000  84850.869871\n",
       "Свердловский район   69216996   9500  550000  65114.765757"
      ]
     },
     "execution_count": 4,
     "metadata": {},
     "output_type": "execute_result"
    }
   ],
   "source": [
    "df.groupby('district').price.agg(['sum', \"min\", \"max\", \"mean\"])"
   ]
  },
  {
   "cell_type": "code",
   "execution_count": 5,
   "metadata": {},
   "outputs": [
    {
     "name": "stdout",
     "output_type": "stream",
     "text": [
      "<class 'pandas.core.frame.DataFrame'>\n",
      "RangeIndex: 10000 entries, 0 to 9999\n",
      "Data columns (total 13 columns):\n",
      " #   Column          Non-Null Count  Dtype  \n",
      "---  ------          --------------  -----  \n",
      " 0   price           10000 non-null  int64  \n",
      " 1   m2_price        10000 non-null  int64  \n",
      " 2   square          10000 non-null  int64  \n",
      " 3   rooms           10000 non-null  object \n",
      " 4   district        9990 non-null   object \n",
      " 5   micro_district  9543 non-null   object \n",
      " 6   building_type   10000 non-null  object \n",
      " 7   floor           10000 non-null  int64  \n",
      " 8   floors          10000 non-null  int64  \n",
      " 9   year            5631 non-null   float64\n",
      " 10  date            10000 non-null  object \n",
      " 11  source          10000 non-null  object \n",
      " 12  condition       7081 non-null   object \n",
      "dtypes: float64(1), int64(5), object(7)\n",
      "memory usage: 1015.8+ KB\n"
     ]
    }
   ],
   "source": [
    "df.info()"
   ]
  },
  {
   "cell_type": "code",
   "execution_count": 6,
   "metadata": {},
   "outputs": [
    {
     "data": {
      "text/plain": [
       "price                0\n",
       "m2_price             0\n",
       "square               0\n",
       "rooms                0\n",
       "district            10\n",
       "micro_district     457\n",
       "building_type        0\n",
       "floor                0\n",
       "floors               0\n",
       "year              4369\n",
       "date                 0\n",
       "source               0\n",
       "condition         2919\n",
       "dtype: int64"
      ]
     },
     "execution_count": 6,
     "metadata": {},
     "output_type": "execute_result"
    }
   ],
   "source": [
    "df.isna().sum()"
   ]
  },
  {
   "cell_type": "code",
   "execution_count": 7,
   "metadata": {},
   "outputs": [
    {
     "data": {
      "text/plain": [
       "rooms\n",
       "2                       3580\n",
       "3                       3004\n",
       "1                       2617\n",
       "4                        672\n",
       "5                         75\n",
       "6 и более                 41\n",
       "свободная планировка      11\n",
       "Name: count, dtype: int64"
      ]
     },
     "execution_count": 7,
     "metadata": {},
     "output_type": "execute_result"
    }
   ],
   "source": [
    "df.rooms.value_counts()"
   ]
  },
  {
   "cell_type": "code",
   "execution_count": 8,
   "metadata": {},
   "outputs": [
    {
     "data": {
      "text/plain": [
       "<Axes: xlabel='price', ylabel='square'>"
      ]
     },
     "execution_count": 8,
     "metadata": {},
     "output_type": "execute_result"
    },
    {
     "data": {
      "image/png": "[encoded data removed]",
      "text/plain": [
       "<Figure size 640x480 with 1 Axes>"
      ]
     },
     "metadata": {},
     "output_type": "display_data"
    }
   ],
   "source": [
    "sns.histplot(df, x=\"price\", y = \"square\")"
   ]
  },
  {
   "cell_type": "code",
   "execution_count": 9,
   "metadata": {},
   "outputs": [
    {
     "data": {
      "text/html": [
       "<div>\n",
       "<style scoped>\n",
       "    .dataframe tbody tr th:only-of-type {\n",
       "        vertical-align: middle;\n",
       "    }\n",
       "\n",
       "    .dataframe tbody tr th {\n",
       "        vertical-align: top;\n",
       "    }\n",
       "\n",
       "    .dataframe thead th {\n",
       "        text-align: right;\n",
       "    }\n",
       "</style>\n",
       "<table border=\"1\" class=\"dataframe\">\n",
       "  <thead>\n",
       "    <tr style=\"text-align: right;\">\n",
       "      <th></th>\n",
       "      <th>price</th>\n",
       "      <th>m2_price</th>\n",
       "      <th>square</th>\n",
       "      <th>district</th>\n",
       "      <th>micro_district</th>\n",
       "      <th>building_type</th>\n",
       "      <th>floor</th>\n",
       "      <th>floors</th>\n",
       "      <th>year</th>\n",
       "      <th>date</th>\n",
       "      <th>source</th>\n",
       "      <th>condition</th>\n",
       "      <th>rooms_1</th>\n",
       "      <th>rooms_2</th>\n",
       "      <th>rooms_3</th>\n",
       "      <th>rooms_4</th>\n",
       "      <th>rooms_5</th>\n",
       "      <th>rooms_6 и более</th>\n",
       "      <th>rooms_свободная планировка</th>\n",
       "    </tr>\n",
       "  </thead>\n",
       "  <tbody>\n",
       "    <tr>\n",
       "      <th>0</th>\n",
       "      <td>110880</td>\n",
       "      <td>720</td>\n",
       "      <td>154</td>\n",
       "      <td>Октябрьский район</td>\n",
       "      <td>Магистраль</td>\n",
       "      <td>кирпичный</td>\n",
       "      <td>12</td>\n",
       "      <td>14</td>\n",
       "      <td>2023.0</td>\n",
       "      <td>2023-02-04 20:05:01</td>\n",
       "      <td>Site</td>\n",
       "      <td>под самоотделку (ПСО)</td>\n",
       "      <td>False</td>\n",
       "      <td>False</td>\n",
       "      <td>False</td>\n",
       "      <td>True</td>\n",
       "      <td>False</td>\n",
       "      <td>False</td>\n",
       "      <td>False</td>\n",
       "    </tr>\n",
       "    <tr>\n",
       "      <th>1</th>\n",
       "      <td>57000</td>\n",
       "      <td>740</td>\n",
       "      <td>77</td>\n",
       "      <td>Октябрьский район</td>\n",
       "      <td>Магистраль</td>\n",
       "      <td>кирпичный</td>\n",
       "      <td>5</td>\n",
       "      <td>12</td>\n",
       "      <td>2023.0</td>\n",
       "      <td>2023-02-04 20:04:49</td>\n",
       "      <td>Site</td>\n",
       "      <td>под самоотделку (ПСО)</td>\n",
       "      <td>False</td>\n",
       "      <td>True</td>\n",
       "      <td>False</td>\n",
       "      <td>False</td>\n",
       "      <td>False</td>\n",
       "      <td>False</td>\n",
       "      <td>False</td>\n",
       "    </tr>\n",
       "    <tr>\n",
       "      <th>2</th>\n",
       "      <td>57750</td>\n",
       "      <td>750</td>\n",
       "      <td>77</td>\n",
       "      <td>Октябрьский район</td>\n",
       "      <td>Магистраль</td>\n",
       "      <td>монолитный</td>\n",
       "      <td>5</td>\n",
       "      <td>12</td>\n",
       "      <td>2023.0</td>\n",
       "      <td>2023-02-04 20:04:37</td>\n",
       "      <td>Site</td>\n",
       "      <td>под самоотделку (ПСО)</td>\n",
       "      <td>False</td>\n",
       "      <td>True</td>\n",
       "      <td>False</td>\n",
       "      <td>False</td>\n",
       "      <td>False</td>\n",
       "      <td>False</td>\n",
       "      <td>False</td>\n",
       "    </tr>\n",
       "    <tr>\n",
       "      <th>3</th>\n",
       "      <td>57000</td>\n",
       "      <td>740</td>\n",
       "      <td>77</td>\n",
       "      <td>Октябрьский район</td>\n",
       "      <td>Магистраль</td>\n",
       "      <td>кирпичный</td>\n",
       "      <td>5</td>\n",
       "      <td>12</td>\n",
       "      <td>2023.0</td>\n",
       "      <td>2023-02-04 20:04:01</td>\n",
       "      <td>Site</td>\n",
       "      <td>под самоотделку (ПСО)</td>\n",
       "      <td>False</td>\n",
       "      <td>True</td>\n",
       "      <td>False</td>\n",
       "      <td>False</td>\n",
       "      <td>False</td>\n",
       "      <td>False</td>\n",
       "      <td>False</td>\n",
       "    </tr>\n",
       "    <tr>\n",
       "      <th>4</th>\n",
       "      <td>55000</td>\n",
       "      <td>1279</td>\n",
       "      <td>43</td>\n",
       "      <td>Ленинский район</td>\n",
       "      <td>Академия Наук</td>\n",
       "      <td>кирпичный</td>\n",
       "      <td>1</td>\n",
       "      <td>12</td>\n",
       "      <td>2013.0</td>\n",
       "      <td>2023-02-04 20:02:37</td>\n",
       "      <td>Site</td>\n",
       "      <td>хорошее</td>\n",
       "      <td>True</td>\n",
       "      <td>False</td>\n",
       "      <td>False</td>\n",
       "      <td>False</td>\n",
       "      <td>False</td>\n",
       "      <td>False</td>\n",
       "      <td>False</td>\n",
       "    </tr>\n",
       "  </tbody>\n",
       "</table>\n",
       "</div>"
      ],
      "text/plain": [
       "    price  m2_price  square           district micro_district building_type  \\\n",
       "0  110880       720     154  Октябрьский район     Магистраль     кирпичный   \n",
       "1   57000       740      77  Октябрьский район     Магистраль     кирпичный   \n",
       "2   57750       750      77  Октябрьский район     Магистраль    монолитный   \n",
       "3   57000       740      77  Октябрьский район     Магистраль     кирпичный   \n",
       "4   55000      1279      43    Ленинский район  Академия Наук     кирпичный   \n",
       "\n",
       "   floor  floors    year                 date source              condition  \\\n",
       "0     12      14  2023.0  2023-02-04 20:05:01   Site  под самоотделку (ПСО)   \n",
       "1      5      12  2023.0  2023-02-04 20:04:49   Site  под самоотделку (ПСО)   \n",
       "2      5      12  2023.0  2023-02-04 20:04:37   Site  под самоотделку (ПСО)   \n",
       "3      5      12  2023.0  2023-02-04 20:04:01   Site  под самоотделку (ПСО)   \n",
       "4      1      12  2013.0  2023-02-04 20:02:37   Site                хорошее   \n",
       "\n",
       "   rooms_1  rooms_2  rooms_3  rooms_4  rooms_5  rooms_6 и более  \\\n",
       "0    False    False    False     True    False            False   \n",
       "1    False     True    False    False    False            False   \n",
       "2    False     True    False    False    False            False   \n",
       "3    False     True    False    False    False            False   \n",
       "4     True    False    False    False    False            False   \n",
       "\n",
       "   rooms_свободная планировка  \n",
       "0                       False  \n",
       "1                       False  \n",
       "2                       False  \n",
       "3                       False  \n",
       "4                       False  "
      ]
     },
     "execution_count": 9,
     "metadata": {},
     "output_type": "execute_result"
    }
   ],
   "source": [
    "df = pd.get_dummies(df, columns=['rooms'])\n",
    "df.head()"
   ]
  },
  {
   "cell_type": "code",
   "execution_count": 10,
   "metadata": {},
   "outputs": [
    {
     "name": "stdout",
     "output_type": "stream",
     "text": [
      "<class 'pandas.core.frame.DataFrame'>\n",
      "RangeIndex: 10000 entries, 0 to 9999\n",
      "Data columns (total 19 columns):\n",
      " #   Column                      Non-Null Count  Dtype  \n",
      "---  ------                      --------------  -----  \n",
      " 0   price                       10000 non-null  int64  \n",
      " 1   m2_price                    10000 non-null  int64  \n",
      " 2   square                      10000 non-null  int64  \n",
      " 3   district                    9990 non-null   object \n",
      " 4   micro_district              9543 non-null   object \n",
      " 5   building_type               10000 non-null  object \n",
      " 6   floor                       10000 non-null  int64  \n",
      " 7   floors                      10000 non-null  int64  \n",
      " 8   year                        5631 non-null   float64\n",
      " 9   date                        10000 non-null  object \n",
      " 10  source                      10000 non-null  object \n",
      " 11  condition                   7081 non-null   object \n",
      " 12  rooms_1                     10000 non-null  bool   \n",
      " 13  rooms_2                     10000 non-null  bool   \n",
      " 14  rooms_3                     10000 non-null  bool   \n",
      " 15  rooms_4                     10000 non-null  bool   \n",
      " 16  rooms_5                     10000 non-null  bool   \n",
      " 17  rooms_6 и более             10000 non-null  bool   \n",
      " 18  rooms_свободная планировка  10000 non-null  bool   \n",
      "dtypes: bool(7), float64(1), int64(5), object(6)\n",
      "memory usage: 1006.0+ KB\n"
     ]
    }
   ],
   "source": [
    "df.info()"
   ]
  },
  {
   "cell_type": "code",
   "execution_count": 11,
   "metadata": {},
   "outputs": [],
   "source": [
    "# df.date = df.date.apply(lambda x: x.split(\"-\")[0])\n",
    "# df.head()\n",
    "df.drop([\"date\", \"year\", \"source\"], axis = 1, inplace= True)\n"
   ]
  },
  {
   "cell_type": "code",
   "execution_count": 12,
   "metadata": {},
   "outputs": [
    {
     "data": {
      "text/plain": [
       "price                            0\n",
       "m2_price                         0\n",
       "square                           0\n",
       "district                        10\n",
       "micro_district                 457\n",
       "building_type                    0\n",
       "floor                            0\n",
       "floors                           0\n",
       "condition                     2919\n",
       "rooms_1                          0\n",
       "rooms_2                          0\n",
       "rooms_3                          0\n",
       "rooms_4                          0\n",
       "rooms_5                          0\n",
       "rooms_6 и более                  0\n",
       "rooms_свободная планировка       0\n",
       "dtype: int64"
      ]
     },
     "execution_count": 12,
     "metadata": {},
     "output_type": "execute_result"
    }
   ],
   "source": [
    "df.isna().sum()"
   ]
  },
  {
   "cell_type": "code",
   "execution_count": 13,
   "metadata": {},
   "outputs": [
    {
     "data": {
      "text/plain": [
       "price                            0\n",
       "m2_price                         0\n",
       "square                           0\n",
       "district                        10\n",
       "micro_district                 457\n",
       "building_type                    0\n",
       "floor                            0\n",
       "floors                           0\n",
       "condition                     2919\n",
       "rooms_1                          0\n",
       "rooms_2                          0\n",
       "rooms_3                          0\n",
       "rooms_4                          0\n",
       "rooms_5                          0\n",
       "rooms_6 и более                  0\n",
       "rooms_свободная планировка       0\n",
       "dtype: int64"
      ]
     },
     "execution_count": 13,
     "metadata": {},
     "output_type": "execute_result"
    }
   ],
   "source": [
    "for i in df.select_dtypes(include=['float', \"int\"]).columns:\n",
    "    df[i]=df[i].fillna(df[i].mean())\n",
    "df.isna().sum()"
   ]
  },
  {
   "cell_type": "code",
   "execution_count": 14,
   "metadata": {},
   "outputs": [
    {
     "data": {
      "text/plain": [
       "price                         0\n",
       "m2_price                      0\n",
       "square                        0\n",
       "district                      0\n",
       "micro_district                0\n",
       "building_type                 0\n",
       "floor                         0\n",
       "floors                        0\n",
       "condition                     0\n",
       "rooms_1                       0\n",
       "rooms_2                       0\n",
       "rooms_3                       0\n",
       "rooms_4                       0\n",
       "rooms_5                       0\n",
       "rooms_6 и более               0\n",
       "rooms_свободная планировка    0\n",
       "dtype: int64"
      ]
     },
     "execution_count": 14,
     "metadata": {},
     "output_type": "execute_result"
    }
   ],
   "source": [
    "for i in df.select_dtypes(include=['object']).columns:\n",
    "    df[i]=df[i].fillna(df[i].mode()[0])\n",
    "df.isna().sum()"
   ]
  },
  {
   "cell_type": "code",
   "execution_count": 15,
   "metadata": {},
   "outputs": [
    {
     "data": {
      "text/html": [
       "<div>\n",
       "<style scoped>\n",
       "    .dataframe tbody tr th:only-of-type {\n",
       "        vertical-align: middle;\n",
       "    }\n",
       "\n",
       "    .dataframe tbody tr th {\n",
       "        vertical-align: top;\n",
       "    }\n",
       "\n",
       "    .dataframe thead th {\n",
       "        text-align: right;\n",
       "    }\n",
       "</style>\n",
       "<table border=\"1\" class=\"dataframe\">\n",
       "  <thead>\n",
       "    <tr style=\"text-align: right;\">\n",
       "      <th></th>\n",
       "      <th>price</th>\n",
       "      <th>m2_price</th>\n",
       "      <th>square</th>\n",
       "      <th>district</th>\n",
       "      <th>micro_district</th>\n",
       "      <th>building_type</th>\n",
       "      <th>floor</th>\n",
       "      <th>floors</th>\n",
       "      <th>condition</th>\n",
       "      <th>rooms_1</th>\n",
       "      <th>rooms_2</th>\n",
       "      <th>rooms_3</th>\n",
       "      <th>rooms_4</th>\n",
       "      <th>rooms_5</th>\n",
       "      <th>rooms_6 и более</th>\n",
       "      <th>rooms_свободная планировка</th>\n",
       "    </tr>\n",
       "  </thead>\n",
       "  <tbody>\n",
       "    <tr>\n",
       "      <th>0</th>\n",
       "      <td>110880</td>\n",
       "      <td>720</td>\n",
       "      <td>154</td>\n",
       "      <td>1</td>\n",
       "      <td>83</td>\n",
       "      <td>0</td>\n",
       "      <td>12</td>\n",
       "      <td>14</td>\n",
       "      <td>2</td>\n",
       "      <td>False</td>\n",
       "      <td>False</td>\n",
       "      <td>False</td>\n",
       "      <td>True</td>\n",
       "      <td>False</td>\n",
       "      <td>False</td>\n",
       "      <td>False</td>\n",
       "    </tr>\n",
       "    <tr>\n",
       "      <th>1</th>\n",
       "      <td>57000</td>\n",
       "      <td>740</td>\n",
       "      <td>77</td>\n",
       "      <td>1</td>\n",
       "      <td>83</td>\n",
       "      <td>0</td>\n",
       "      <td>5</td>\n",
       "      <td>12</td>\n",
       "      <td>2</td>\n",
       "      <td>False</td>\n",
       "      <td>True</td>\n",
       "      <td>False</td>\n",
       "      <td>False</td>\n",
       "      <td>False</td>\n",
       "      <td>False</td>\n",
       "      <td>False</td>\n",
       "    </tr>\n",
       "    <tr>\n",
       "      <th>2</th>\n",
       "      <td>57750</td>\n",
       "      <td>750</td>\n",
       "      <td>77</td>\n",
       "      <td>1</td>\n",
       "      <td>83</td>\n",
       "      <td>1</td>\n",
       "      <td>5</td>\n",
       "      <td>12</td>\n",
       "      <td>2</td>\n",
       "      <td>False</td>\n",
       "      <td>True</td>\n",
       "      <td>False</td>\n",
       "      <td>False</td>\n",
       "      <td>False</td>\n",
       "      <td>False</td>\n",
       "      <td>False</td>\n",
       "    </tr>\n",
       "    <tr>\n",
       "      <th>3</th>\n",
       "      <td>57000</td>\n",
       "      <td>740</td>\n",
       "      <td>77</td>\n",
       "      <td>1</td>\n",
       "      <td>83</td>\n",
       "      <td>0</td>\n",
       "      <td>5</td>\n",
       "      <td>12</td>\n",
       "      <td>2</td>\n",
       "      <td>False</td>\n",
       "      <td>True</td>\n",
       "      <td>False</td>\n",
       "      <td>False</td>\n",
       "      <td>False</td>\n",
       "      <td>False</td>\n",
       "      <td>False</td>\n",
       "    </tr>\n",
       "    <tr>\n",
       "      <th>4</th>\n",
       "      <td>55000</td>\n",
       "      <td>1279</td>\n",
       "      <td>43</td>\n",
       "      <td>0</td>\n",
       "      <td>22</td>\n",
       "      <td>0</td>\n",
       "      <td>1</td>\n",
       "      <td>12</td>\n",
       "      <td>6</td>\n",
       "      <td>True</td>\n",
       "      <td>False</td>\n",
       "      <td>False</td>\n",
       "      <td>False</td>\n",
       "      <td>False</td>\n",
       "      <td>False</td>\n",
       "      <td>False</td>\n",
       "    </tr>\n",
       "  </tbody>\n",
       "</table>\n",
       "</div>"
      ],
      "text/plain": [
       "    price  m2_price  square  district  micro_district  building_type  floor  \\\n",
       "0  110880       720     154         1              83              0     12   \n",
       "1   57000       740      77         1              83              0      5   \n",
       "2   57750       750      77         1              83              1      5   \n",
       "3   57000       740      77         1              83              0      5   \n",
       "4   55000      1279      43         0              22              0      1   \n",
       "\n",
       "   floors  condition  rooms_1  rooms_2  rooms_3  rooms_4  rooms_5  \\\n",
       "0      14          2    False    False    False     True    False   \n",
       "1      12          2    False     True    False    False    False   \n",
       "2      12          2    False     True    False    False    False   \n",
       "3      12          2    False     True    False    False    False   \n",
       "4      12          6     True    False    False    False    False   \n",
       "\n",
       "   rooms_6 и более  rooms_свободная планировка  \n",
       "0            False                       False  \n",
       "1            False                       False  \n",
       "2            False                       False  \n",
       "3            False                       False  \n",
       "4            False                       False  "
      ]
     },
     "execution_count": 15,
     "metadata": {},
     "output_type": "execute_result"
    }
   ],
   "source": [
    "col = df.select_dtypes(['object']).columns\n",
    "le=LabelEncoder()\n",
    "for i in col:\n",
    "    df[i]=le.fit_transform(df[i])\n",
    "df.head()"
   ]
  },
  {
   "cell_type": "code",
   "execution_count": 20,
   "metadata": {},
   "outputs": [],
   "source": [
    "x = df.drop([\"price\", \"m2_price\"], axis=1)\n",
    "y = df.price\n"
   ]
  },
  {
   "cell_type": "code",
   "execution_count": 21,
   "metadata": {},
   "outputs": [],
   "source": [
    "trainx,testx,trainy,testy=train_test_split(x,y,test_size=0.3, shuffle=True)"
   ]
  },
  {
   "cell_type": "code",
   "execution_count": 22,
   "metadata": {},
   "outputs": [],
   "source": [
    "lr = LinearRegression()\n",
    "dtr = DecisionTreeRegressor()\n",
    "rfr = RandomForestRegressor()\n",
    "mlp = MLPRegressor()\n",
    "gb = GradientBoostingRegressor()"
   ]
  },
  {
   "cell_type": "code",
   "execution_count": 23,
   "metadata": {},
   "outputs": [
    {
     "name": "stdout",
     "output_type": "stream",
     "text": [
      "LinearRegression()\n",
      ",464445392.26058775\n",
      ",0.7652817401407439\n",
      "-----------\n",
      "DecisionTreeRegressor()\n",
      ",377352231.07144284\n",
      ",0.80929629078675\n",
      "-----------\n",
      "RandomForestRegressor()\n",
      ",208349921.87406763\n",
      ",0.8947055306845316\n",
      "-----------\n"
     ]
    },
    {
     "name": "stderr",
     "output_type": "stream",
     "text": [
      "c:\\Users\\gpro0\\AppData\\Local\\Programs\\Python\\Python311\\Lib\\site-packages\\sklearn\\neural_network\\_multilayer_perceptron.py:691: ConvergenceWarning: Stochastic Optimizer: Maximum iterations (200) reached and the optimization hasn't converged yet.\n",
      "  warnings.warn(\n"
     ]
    },
    {
     "name": "stdout",
     "output_type": "stream",
     "text": [
      "MLPRegressor()\n",
      ",471554093.6032322\n",
      ",0.761689192907401\n",
      "-----------\n",
      "GradientBoostingRegressor()\n",
      ",305806588.082602\n",
      ",0.8454535422154177\n",
      "-----------\n"
     ]
    }
   ],
   "source": [
    "for i in [lr, dtr, rfr, mlp, gb ]:\n",
    "    model = i.fit(trainx, trainy)\n",
    "    pred = model.predict(testx)\n",
    "    print(f\"{str(i)}\\n,{mean_squared_error(testy, pred)}\\n,{r2_score(testy, pred)}\\n-----------\")"
   ]
  },
  {
   "cell_type": "code",
   "execution_count": null,
   "metadata": {},
   "outputs": [],
   "source": []
  },
  {
   "cell_type": "code",
   "execution_count": null,
   "metadata": {},
   "outputs": [],
   "source": []
  }
 ],
 "metadata": {
  "kernelspec": {
   "display_name": "Python 3",
   "language": "python",
   "name": "python3"
  },
  "language_info": {
   "codemirror_mode": {
    "name": "ipython",
    "version": 3
   },
   "file_extension": ".py",
   "mimetype": "text/x-python",
   "name": "python",
   "nbconvert_exporter": "python",
   "pygments_lexer": "ipython3",
   "version": "3.11.8"
  }
 },
 "nbformat": 4,
 "nbformat_minor": 2
}
